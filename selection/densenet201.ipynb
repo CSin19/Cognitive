{
 "cells": [
  {
   "cell_type": "code",
   "execution_count": 1,
   "metadata": {},
   "outputs": [],
   "source": [
    "%reload_ext autoreload\n",
    "%autoreload 2\n",
    "%matplotlib inline"
   ]
  },
  {
   "cell_type": "code",
   "execution_count": 2,
   "metadata": {
    "hide_input": false
   },
   "outputs": [],
   "source": [
    "from fastai import *\n",
    "from fastai.vision import *"
   ]
  },
  {
   "cell_type": "code",
   "execution_count": 3,
   "metadata": {},
   "outputs": [],
   "source": [
    "np.random.seed(42)\n",
    "path = Path('../data/imgs')"
   ]
  },
  {
   "cell_type": "code",
   "execution_count": 4,
   "metadata": {},
   "outputs": [],
   "source": [
    "bs = 64\n",
    "data = ImageDataBunch.from_folder(path, train='train', test='test', valid_pct=0.2,\n",
    "        ds_tfms=get_transforms(), size=224, bs=bs, num_workers=4).normalize(imagenet_stats)"
   ]
  },
  {
   "cell_type": "code",
   "execution_count": 5,
   "metadata": {},
   "outputs": [],
   "source": [
    "learn = cnn_learner(data, models.densenet201, metrics=[accuracy, FBeta(average='macro')])"
   ]
  },
  {
   "cell_type": "code",
   "execution_count": 6,
   "metadata": {},
   "outputs": [
    {
     "data": {
      "text/html": [
       "<table border=\"1\" class=\"dataframe\">\n",
       "  <thead>\n",
       "    <tr style=\"text-align: left;\">\n",
       "      <th>epoch</th>\n",
       "      <th>train_loss</th>\n",
       "      <th>valid_loss</th>\n",
       "      <th>accuracy</th>\n",
       "      <th>f_beta</th>\n",
       "      <th>time</th>\n",
       "    </tr>\n",
       "  </thead>\n",
       "  <tbody>\n",
       "    <tr>\n",
       "      <td>0</td>\n",
       "      <td>0.360910</td>\n",
       "      <td>0.103648</td>\n",
       "      <td>0.969001</td>\n",
       "      <td>0.966900</td>\n",
       "      <td>04:47</td>\n",
       "    </tr>\n",
       "    <tr>\n",
       "      <td>1</td>\n",
       "      <td>0.130690</td>\n",
       "      <td>0.030114</td>\n",
       "      <td>0.990187</td>\n",
       "      <td>0.989772</td>\n",
       "      <td>02:59</td>\n",
       "    </tr>\n",
       "    <tr>\n",
       "      <td>2</td>\n",
       "      <td>0.055162</td>\n",
       "      <td>0.022285</td>\n",
       "      <td>0.993756</td>\n",
       "      <td>0.993374</td>\n",
       "      <td>02:59</td>\n",
       "    </tr>\n",
       "  </tbody>\n",
       "</table>"
      ],
      "text/plain": [
       "<IPython.core.display.HTML object>"
      ]
     },
     "metadata": {},
     "output_type": "display_data"
    }
   ],
   "source": [
    "learn.fit_one_cycle(3)"
   ]
  },
  {
   "cell_type": "code",
   "execution_count": 7,
   "metadata": {},
   "outputs": [],
   "source": [
    "learn.save('densenet201-stage-1')"
   ]
  },
  {
   "cell_type": "code",
   "execution_count": 8,
   "metadata": {},
   "outputs": [],
   "source": [
    "learn.unfreeze()"
   ]
  },
  {
   "cell_type": "code",
   "execution_count": 9,
   "metadata": {},
   "outputs": [
    {
     "data": {
      "text/html": [
       "\n",
       "    <div>\n",
       "        <style>\n",
       "            /* Turns off some styling */\n",
       "            progress {\n",
       "                /* gets rid of default border in Firefox and Opera. */\n",
       "                border: none;\n",
       "                /* Needs to be in here for Safari polyfill so background images work as expected. */\n",
       "                background-size: auto;\n",
       "            }\n",
       "            .progress-bar-interrupted, .progress-bar-interrupted::-webkit-progress-bar {\n",
       "                background: #F44336;\n",
       "            }\n",
       "        </style>\n",
       "      <progress value='0' class='' max='1', style='width:300px; height:20px; vertical-align: middle;'></progress>\n",
       "      0.00% [0/1 00:00<00:00]\n",
       "    </div>\n",
       "    \n",
       "<table border=\"1\" class=\"dataframe\">\n",
       "  <thead>\n",
       "    <tr style=\"text-align: left;\">\n",
       "      <th>epoch</th>\n",
       "      <th>train_loss</th>\n",
       "      <th>valid_loss</th>\n",
       "      <th>accuracy</th>\n",
       "      <th>f_beta</th>\n",
       "      <th>time</th>\n",
       "    </tr>\n",
       "  </thead>\n",
       "  <tbody>\n",
       "  </tbody>\n",
       "</table><p>\n",
       "\n",
       "    <div>\n",
       "        <style>\n",
       "            /* Turns off some styling */\n",
       "            progress {\n",
       "                /* gets rid of default border in Firefox and Opera. */\n",
       "                border: none;\n",
       "                /* Needs to be in here for Safari polyfill so background images work as expected. */\n",
       "                background-size: auto;\n",
       "            }\n",
       "            .progress-bar-interrupted, .progress-bar-interrupted::-webkit-progress-bar {\n",
       "                background: #F44336;\n",
       "            }\n",
       "        </style>\n",
       "      <progress value='51' class='' max='280', style='width:300px; height:20px; vertical-align: middle;'></progress>\n",
       "      18.21% [51/280 00:37<02:47 0.1189]\n",
       "    </div>\n",
       "    "
      ],
      "text/plain": [
       "<IPython.core.display.HTML object>"
      ]
     },
     "metadata": {},
     "output_type": "display_data"
    },
    {
     "name": "stdout",
     "output_type": "stream",
     "text": [
      "LR Finder is complete, type {learner_name}.recorder.plot() to see the graph.\n"
     ]
    },
    {
     "data": {
      "image/png": "[encoded data removed]",
      "text/plain": [
       "<Figure size 432x288 with 1 Axes>"
      ]
     },
     "metadata": {
      "needs_background": "light"
     },
     "output_type": "display_data"
    }
   ],
   "source": [
    "learn.lr_find()\n",
    "learn.recorder.plot()"
   ]
  },
  {
   "cell_type": "code",
   "execution_count": 10,
   "metadata": {
    "scrolled": true
   },
   "outputs": [
    {
     "data": {
      "text/html": [
       "<table border=\"1\" class=\"dataframe\">\n",
       "  <thead>\n",
       "    <tr style=\"text-align: left;\">\n",
       "      <th>epoch</th>\n",
       "      <th>train_loss</th>\n",
       "      <th>valid_loss</th>\n",
       "      <th>accuracy</th>\n",
       "      <th>f_beta</th>\n",
       "      <th>time</th>\n",
       "    </tr>\n",
       "  </thead>\n",
       "  <tbody>\n",
       "    <tr>\n",
       "      <td>0</td>\n",
       "      <td>0.056879</td>\n",
       "      <td>0.020299</td>\n",
       "      <td>0.994202</td>\n",
       "      <td>0.993827</td>\n",
       "      <td>03:32</td>\n",
       "    </tr>\n",
       "    <tr>\n",
       "      <td>1</td>\n",
       "      <td>0.055027</td>\n",
       "      <td>0.019201</td>\n",
       "      <td>0.994871</td>\n",
       "      <td>0.994531</td>\n",
       "      <td>03:32</td>\n",
       "    </tr>\n",
       "    <tr>\n",
       "      <td>2</td>\n",
       "      <td>0.046196</td>\n",
       "      <td>0.019372</td>\n",
       "      <td>0.994202</td>\n",
       "      <td>0.993796</td>\n",
       "      <td>03:32</td>\n",
       "    </tr>\n",
       "  </tbody>\n",
       "</table>"
      ],
      "text/plain": [
       "<IPython.core.display.HTML object>"
      ]
     },
     "metadata": {},
     "output_type": "display_data"
    }
   ],
   "source": [
    "learn.fit_one_cycle(3, max_lr=slice(4e-7, 1e-5))"
   ]
  },
  {
   "cell_type": "code",
   "execution_count": 11,
   "metadata": {},
   "outputs": [],
   "source": [
    "learn.save('densenet201-stage-2')"
   ]
  },
  {
   "cell_type": "code",
   "execution_count": 12,
   "metadata": {
    "scrolled": true
   },
   "outputs": [
    {
     "data": {
      "text/html": [
       "\n",
       "    <div>\n",
       "        <style>\n",
       "            /* Turns off some styling */\n",
       "            progress {\n",
       "                /* gets rid of default border in Firefox and Opera. */\n",
       "                border: none;\n",
       "                /* Needs to be in here for Safari polyfill so background images work as expected. */\n",
       "                background-size: auto;\n",
       "            }\n",
       "            .progress-bar-interrupted, .progress-bar-interrupted::-webkit-progress-bar {\n",
       "                background: #F44336;\n",
       "            }\n",
       "        </style>\n",
       "      <progress value='0' class='' max='1', style='width:300px; height:20px; vertical-align: middle;'></progress>\n",
       "      0.00% [0/1 00:00<00:00]\n",
       "    </div>\n",
       "    \n",
       "<table border=\"1\" class=\"dataframe\">\n",
       "  <thead>\n",
       "    <tr style=\"text-align: left;\">\n",
       "      <th>epoch</th>\n",
       "      <th>train_loss</th>\n",
       "      <th>valid_loss</th>\n",
       "      <th>accuracy</th>\n",
       "      <th>f_beta</th>\n",
       "      <th>time</th>\n",
       "    </tr>\n",
       "  </thead>\n",
       "  <tbody>\n",
       "  </tbody>\n",
       "</table><p>\n",
       "\n",
       "    <div>\n",
       "        <style>\n",
       "            /* Turns off some styling */\n",
       "            progress {\n",
       "                /* gets rid of default border in Firefox and Opera. */\n",
       "                border: none;\n",
       "                /* Needs to be in here for Safari polyfill so background images work as expected. */\n",
       "                background-size: auto;\n",
       "            }\n",
       "            .progress-bar-interrupted, .progress-bar-interrupted::-webkit-progress-bar {\n",
       "                background: #F44336;\n",
       "            }\n",
       "        </style>\n",
       "      <progress value='54' class='' max='280', style='width:300px; height:20px; vertical-align: middle;'></progress>\n",
       "      19.29% [54/280 00:37<02:36 0.1121]\n",
       "    </div>\n",
       "    "
      ],
      "text/plain": [
       "<IPython.core.display.HTML object>"
      ]
     },
     "metadata": {},
     "output_type": "display_data"
    },
    {
     "name": "stdout",
     "output_type": "stream",
     "text": [
      "LR Finder is complete, type {learner_name}.recorder.plot() to see the graph.\n"
     ]
    }
   ],
   "source": [
    "learn.lr_find()"
   ]
  },
  {
   "cell_type": "code",
   "execution_count": 13,
   "metadata": {
    "scrolled": true
   },
   "outputs": [
    {
     "data": {
      "image/png": "[encoded data removed]",
      "text/plain": [
       "<Figure size 432x288 with 1 Axes>"
      ]
     },
     "metadata": {
      "needs_background": "light"
     },
     "output_type": "display_data"
    }
   ],
   "source": [
    "learn.recorder.plot()"
   ]
  },
  {
   "cell_type": "code",
   "execution_count": 14,
   "metadata": {
    "scrolled": true
   },
   "outputs": [
    {
     "data": {
      "text/html": [
       "<table border=\"1\" class=\"dataframe\">\n",
       "  <thead>\n",
       "    <tr style=\"text-align: left;\">\n",
       "      <th>epoch</th>\n",
       "      <th>train_loss</th>\n",
       "      <th>valid_loss</th>\n",
       "      <th>accuracy</th>\n",
       "      <th>f_beta</th>\n",
       "      <th>time</th>\n",
       "    </tr>\n",
       "  </thead>\n",
       "  <tbody>\n",
       "    <tr>\n",
       "      <td>0</td>\n",
       "      <td>0.096756</td>\n",
       "      <td>0.043251</td>\n",
       "      <td>0.987288</td>\n",
       "      <td>0.986889</td>\n",
       "      <td>03:32</td>\n",
       "    </tr>\n",
       "    <tr>\n",
       "      <td>1</td>\n",
       "      <td>0.030278</td>\n",
       "      <td>0.014459</td>\n",
       "      <td>0.995540</td>\n",
       "      <td>0.995357</td>\n",
       "      <td>03:32</td>\n",
       "    </tr>\n",
       "    <tr>\n",
       "      <td>2</td>\n",
       "      <td>0.008310</td>\n",
       "      <td>0.006505</td>\n",
       "      <td>0.997993</td>\n",
       "      <td>0.998000</td>\n",
       "      <td>03:32</td>\n",
       "    </tr>\n",
       "  </tbody>\n",
       "</table>"
      ],
      "text/plain": [
       "<IPython.core.display.HTML object>"
      ]
     },
     "metadata": {},
     "output_type": "display_data"
    }
   ],
   "source": [
    "learn.fit_one_cycle(3, max_lr=slice(2e-5, 6e-4))"
   ]
  },
  {
   "cell_type": "code",
   "execution_count": 16,
   "metadata": {
    "scrolled": false
   },
   "outputs": [
    {
     "data": {
      "text/html": [
       "<table border=\"1\" class=\"dataframe\">\n",
       "  <thead>\n",
       "    <tr style=\"text-align: left;\">\n",
       "      <th>epoch</th>\n",
       "      <th>train_loss</th>\n",
       "      <th>valid_loss</th>\n",
       "      <th>accuracy</th>\n",
       "      <th>f_beta</th>\n",
       "      <th>time</th>\n",
       "    </tr>\n",
       "  </thead>\n",
       "  <tbody>\n",
       "    <tr>\n",
       "      <td>0</td>\n",
       "      <td>0.006952</td>\n",
       "      <td>0.005917</td>\n",
       "      <td>0.998662</td>\n",
       "      <td>0.998629</td>\n",
       "      <td>03:32</td>\n",
       "    </tr>\n",
       "    <tr>\n",
       "      <td>1</td>\n",
       "      <td>0.006252</td>\n",
       "      <td>0.006179</td>\n",
       "      <td>0.998439</td>\n",
       "      <td>0.998372</td>\n",
       "      <td>03:32</td>\n",
       "    </tr>\n",
       "    <tr>\n",
       "      <td>2</td>\n",
       "      <td>0.005830</td>\n",
       "      <td>0.005601</td>\n",
       "      <td>0.998439</td>\n",
       "      <td>0.998371</td>\n",
       "      <td>03:31</td>\n",
       "    </tr>\n",
       "    <tr>\n",
       "      <td>3</td>\n",
       "      <td>0.006743</td>\n",
       "      <td>0.005371</td>\n",
       "      <td>0.998662</td>\n",
       "      <td>0.998582</td>\n",
       "      <td>03:31</td>\n",
       "    </tr>\n",
       "    <tr>\n",
       "      <td>4</td>\n",
       "      <td>0.005023</td>\n",
       "      <td>0.005144</td>\n",
       "      <td>0.998662</td>\n",
       "      <td>0.998582</td>\n",
       "      <td>03:31</td>\n",
       "    </tr>\n",
       "  </tbody>\n",
       "</table>"
      ],
      "text/plain": [
       "<IPython.core.display.HTML object>"
      ]
     },
     "metadata": {},
     "output_type": "display_data"
    }
   ],
   "source": [
    "learn.fit_one_cycle(5, max_lr=slice(1e-6, 5e-5))"
   ]
  },
  {
   "cell_type": "code",
   "execution_count": 18,
   "metadata": {
    "scrolled": false
   },
   "outputs": [
    {
     "data": {
      "text/html": [
       "<table border=\"1\" class=\"dataframe\">\n",
       "  <thead>\n",
       "    <tr style=\"text-align: left;\">\n",
       "      <th>epoch</th>\n",
       "      <th>train_loss</th>\n",
       "      <th>valid_loss</th>\n",
       "      <th>accuracy</th>\n",
       "      <th>f_beta</th>\n",
       "      <th>time</th>\n",
       "    </tr>\n",
       "  </thead>\n",
       "  <tbody>\n",
       "    <tr>\n",
       "      <td>0</td>\n",
       "      <td>0.005877</td>\n",
       "      <td>0.005536</td>\n",
       "      <td>0.998662</td>\n",
       "      <td>0.998586</td>\n",
       "      <td>03:33</td>\n",
       "    </tr>\n",
       "    <tr>\n",
       "      <td>1</td>\n",
       "      <td>0.004826</td>\n",
       "      <td>0.005051</td>\n",
       "      <td>0.998885</td>\n",
       "      <td>0.998854</td>\n",
       "      <td>03:32</td>\n",
       "    </tr>\n",
       "    <tr>\n",
       "      <td>2</td>\n",
       "      <td>0.003272</td>\n",
       "      <td>0.004979</td>\n",
       "      <td>0.998885</td>\n",
       "      <td>0.998854</td>\n",
       "      <td>03:32</td>\n",
       "    </tr>\n",
       "  </tbody>\n",
       "</table>"
      ],
      "text/plain": [
       "<IPython.core.display.HTML object>"
      ]
     },
     "metadata": {},
     "output_type": "display_data"
    }
   ],
   "source": [
    "learn.fit_one_cycle(3, max_lr=slice(2e-7, 3e-5))"
   ]
  },
  {
   "cell_type": "code",
   "execution_count": 19,
   "metadata": {},
   "outputs": [],
   "source": [
    "learn.save('densenet201-stage-3')"
   ]
  },
  {
   "cell_type": "code",
   "execution_count": 20,
   "metadata": {
    "scrolled": true
   },
   "outputs": [
    {
     "data": {
      "text/html": [
       "<table border=\"1\" class=\"dataframe\">\n",
       "  <thead>\n",
       "    <tr style=\"text-align: left;\">\n",
       "      <th>epoch</th>\n",
       "      <th>train_loss</th>\n",
       "      <th>valid_loss</th>\n",
       "      <th>accuracy</th>\n",
       "      <th>f_beta</th>\n",
       "      <th>time</th>\n",
       "    </tr>\n",
       "  </thead>\n",
       "  <tbody>\n",
       "    <tr>\n",
       "      <td>0</td>\n",
       "      <td>0.003688</td>\n",
       "      <td>0.004944</td>\n",
       "      <td>0.998885</td>\n",
       "      <td>0.998854</td>\n",
       "      <td>03:31</td>\n",
       "    </tr>\n",
       "    <tr>\n",
       "      <td>1</td>\n",
       "      <td>0.002498</td>\n",
       "      <td>0.004831</td>\n",
       "      <td>0.998885</td>\n",
       "      <td>0.998854</td>\n",
       "      <td>03:32</td>\n",
       "    </tr>\n",
       "    <tr>\n",
       "      <td>2</td>\n",
       "      <td>0.004508</td>\n",
       "      <td>0.004901</td>\n",
       "      <td>0.998885</td>\n",
       "      <td>0.998812</td>\n",
       "      <td>03:31</td>\n",
       "    </tr>\n",
       "  </tbody>\n",
       "</table>"
      ],
      "text/plain": [
       "<IPython.core.display.HTML object>"
      ]
     },
     "metadata": {},
     "output_type": "display_data"
    }
   ],
   "source": [
    "learn.fit_one_cycle(3, max_lr=slice(4e-8, 5e-6))"
   ]
  },
  {
   "cell_type": "code",
   "execution_count": 21,
   "metadata": {},
   "outputs": [],
   "source": [
    "learn.export()"
   ]
  },
  {
   "cell_type": "markdown",
   "metadata": {},
   "source": [
    "# Submission"
   ]
  },
  {
   "cell_type": "code",
   "execution_count": 22,
   "metadata": {},
   "outputs": [
    {
     "data": {
      "text/html": [],
      "text/plain": [
       "<IPython.core.display.HTML object>"
      ]
     },
     "metadata": {},
     "output_type": "display_data"
    }
   ],
   "source": [
    "import pandas as pd"
   ]
  },
  {
   "cell_type": "code",
   "execution_count": 26,
   "metadata": {},
   "outputs": [],
   "source": [
    "preds = learn.get_preds(ds_type=DatasetType.Test)\n",
    "pred_weights = preds[0]\n",
    "pred_weights[:5]"
   ]
  },
  {
   "cell_type": "code",
   "execution_count": 51,
   "metadata": {},
   "outputs": [],
   "source": [
    "names = [item.name for item in data.test_ds.items]\n",
    "df = pd.DataFrame(pred_weights, columns=data.classes)\n",
    "df = df.applymap(lambda v: v.item())\n",
    "df.insert(0, 'img', names)\n",
    "df.set_index('img', inplace=True)\n",
    "df.sort_index(axis='index', inplace=True)"
   ]
  },
  {
   "cell_type": "code",
   "execution_count": 52,
   "metadata": {},
   "outputs": [
    {
     "data": {
      "text/html": [
       "<div>\n",
       "<style scoped>\n",
       "    .dataframe tbody tr th:only-of-type {\n",
       "        vertical-align: middle;\n",
       "    }\n",
       "\n",
       "    .dataframe tbody tr th {\n",
       "        vertical-align: top;\n",
       "    }\n",
       "\n",
       "    .dataframe thead th {\n",
       "        text-align: right;\n",
       "    }\n",
       "</style>\n",
       "<table border=\"1\" class=\"dataframe\">\n",
       "  <thead>\n",
       "    <tr style=\"text-align: right;\">\n",
       "      <th></th>\n",
       "      <th>c0</th>\n",
       "      <th>c1</th>\n",
       "      <th>c2</th>\n",
       "      <th>c3</th>\n",
       "      <th>c4</th>\n",
       "      <th>c5</th>\n",
       "      <th>c6</th>\n",
       "      <th>c7</th>\n",
       "      <th>c8</th>\n",
       "      <th>c9</th>\n",
       "    </tr>\n",
       "    <tr>\n",
       "      <th>img</th>\n",
       "      <th></th>\n",
       "      <th></th>\n",
       "      <th></th>\n",
       "      <th></th>\n",
       "      <th></th>\n",
       "      <th></th>\n",
       "      <th></th>\n",
       "      <th></th>\n",
       "      <th></th>\n",
       "      <th></th>\n",
       "    </tr>\n",
       "  </thead>\n",
       "  <tbody>\n",
       "    <tr>\n",
       "      <th>img_1.jpg</th>\n",
       "      <td>2.165916e-06</td>\n",
       "      <td>1.416850e-05</td>\n",
       "      <td>2.552860e-06</td>\n",
       "      <td>6.726242e-06</td>\n",
       "      <td>3.325582e-07</td>\n",
       "      <td>9.990786e-01</td>\n",
       "      <td>7.063240e-08</td>\n",
       "      <td>2.552735e-04</td>\n",
       "      <td>1.961951e-05</td>\n",
       "      <td>6.204648e-04</td>\n",
       "    </tr>\n",
       "    <tr>\n",
       "      <th>img_10.jpg</th>\n",
       "      <td>4.190487e-04</td>\n",
       "      <td>2.153001e-07</td>\n",
       "      <td>7.194344e-07</td>\n",
       "      <td>1.732400e-07</td>\n",
       "      <td>2.633013e-07</td>\n",
       "      <td>9.995553e-01</td>\n",
       "      <td>6.075246e-06</td>\n",
       "      <td>1.702427e-07</td>\n",
       "      <td>1.762268e-05</td>\n",
       "      <td>4.494122e-07</td>\n",
       "    </tr>\n",
       "    <tr>\n",
       "      <th>img_100.jpg</th>\n",
       "      <td>9.624180e-01</td>\n",
       "      <td>1.158012e-03</td>\n",
       "      <td>1.836877e-05</td>\n",
       "      <td>2.130487e-05</td>\n",
       "      <td>2.040911e-05</td>\n",
       "      <td>3.298998e-07</td>\n",
       "      <td>3.700594e-04</td>\n",
       "      <td>3.850441e-03</td>\n",
       "      <td>1.411264e-02</td>\n",
       "      <td>1.803039e-02</td>\n",
       "    </tr>\n",
       "    <tr>\n",
       "      <th>img_1000.jpg</th>\n",
       "      <td>4.040092e-10</td>\n",
       "      <td>9.400646e-10</td>\n",
       "      <td>2.432717e-05</td>\n",
       "      <td>1.108774e-10</td>\n",
       "      <td>1.281465e-09</td>\n",
       "      <td>1.850751e-10</td>\n",
       "      <td>8.780874e-09</td>\n",
       "      <td>7.935866e-10</td>\n",
       "      <td>9.999731e-01</td>\n",
       "      <td>2.647279e-06</td>\n",
       "    </tr>\n",
       "    <tr>\n",
       "      <th>img_100000.jpg</th>\n",
       "      <td>8.572250e-06</td>\n",
       "      <td>1.297692e-05</td>\n",
       "      <td>2.211867e-06</td>\n",
       "      <td>9.992274e-01</td>\n",
       "      <td>4.303667e-04</td>\n",
       "      <td>4.788334e-06</td>\n",
       "      <td>1.827861e-05</td>\n",
       "      <td>1.368528e-07</td>\n",
       "      <td>2.780376e-04</td>\n",
       "      <td>1.732141e-05</td>\n",
       "    </tr>\n",
       "    <tr>\n",
       "      <th>...</th>\n",
       "      <td>...</td>\n",
       "      <td>...</td>\n",
       "      <td>...</td>\n",
       "      <td>...</td>\n",
       "      <td>...</td>\n",
       "      <td>...</td>\n",
       "      <td>...</td>\n",
       "      <td>...</td>\n",
       "      <td>...</td>\n",
       "      <td>...</td>\n",
       "    </tr>\n",
       "    <tr>\n",
       "      <th>img_99994.jpg</th>\n",
       "      <td>4.701024e-09</td>\n",
       "      <td>1.000000e+00</td>\n",
       "      <td>2.232980e-08</td>\n",
       "      <td>3.737610e-09</td>\n",
       "      <td>1.843610e-13</td>\n",
       "      <td>2.376544e-09</td>\n",
       "      <td>5.839214e-09</td>\n",
       "      <td>5.993430e-09</td>\n",
       "      <td>4.386623e-11</td>\n",
       "      <td>1.667982e-10</td>\n",
       "    </tr>\n",
       "    <tr>\n",
       "      <th>img_99995.jpg</th>\n",
       "      <td>1.316978e-07</td>\n",
       "      <td>3.682614e-07</td>\n",
       "      <td>7.097483e-11</td>\n",
       "      <td>9.999965e-01</td>\n",
       "      <td>3.449809e-07</td>\n",
       "      <td>3.482129e-09</td>\n",
       "      <td>6.366061e-08</td>\n",
       "      <td>2.363489e-06</td>\n",
       "      <td>3.275299e-08</td>\n",
       "      <td>6.564221e-08</td>\n",
       "    </tr>\n",
       "    <tr>\n",
       "      <th>img_99996.jpg</th>\n",
       "      <td>6.973191e-07</td>\n",
       "      <td>9.086850e-07</td>\n",
       "      <td>2.080224e-07</td>\n",
       "      <td>1.089352e-03</td>\n",
       "      <td>9.988762e-01</td>\n",
       "      <td>2.256886e-09</td>\n",
       "      <td>3.434124e-07</td>\n",
       "      <td>2.364470e-05</td>\n",
       "      <td>8.337755e-06</td>\n",
       "      <td>3.112902e-07</td>\n",
       "    </tr>\n",
       "    <tr>\n",
       "      <th>img_99998.jpg</th>\n",
       "      <td>2.546142e-09</td>\n",
       "      <td>1.235128e-10</td>\n",
       "      <td>4.640553e-08</td>\n",
       "      <td>1.165986e-10</td>\n",
       "      <td>4.003848e-09</td>\n",
       "      <td>1.683767e-09</td>\n",
       "      <td>9.999962e-01</td>\n",
       "      <td>1.422249e-08</td>\n",
       "      <td>3.785650e-06</td>\n",
       "      <td>2.842930e-09</td>\n",
       "    </tr>\n",
       "    <tr>\n",
       "      <th>img_99999.jpg</th>\n",
       "      <td>2.202927e-05</td>\n",
       "      <td>1.519980e-08</td>\n",
       "      <td>4.567063e-10</td>\n",
       "      <td>1.644302e-07</td>\n",
       "      <td>1.923974e-07</td>\n",
       "      <td>9.999775e-01</td>\n",
       "      <td>1.007069e-07</td>\n",
       "      <td>1.761369e-09</td>\n",
       "      <td>2.120867e-09</td>\n",
       "      <td>2.588337e-08</td>\n",
       "    </tr>\n",
       "  </tbody>\n",
       "</table>\n",
       "<p>79726 rows × 10 columns</p>\n",
       "</div>"
      ],
      "text/plain": [
       "                          c0            c1            c2            c3  \\\n",
       "img                                                                      \n",
       "img_1.jpg       2.165916e-06  1.416850e-05  2.552860e-06  6.726242e-06   \n",
       "img_10.jpg      4.190487e-04  2.153001e-07  7.194344e-07  1.732400e-07   \n",
       "img_100.jpg     9.624180e-01  1.158012e-03  1.836877e-05  2.130487e-05   \n",
       "img_1000.jpg    4.040092e-10  9.400646e-10  2.432717e-05  1.108774e-10   \n",
       "img_100000.jpg  8.572250e-06  1.297692e-05  2.211867e-06  9.992274e-01   \n",
       "...                      ...           ...           ...           ...   \n",
       "img_99994.jpg   4.701024e-09  1.000000e+00  2.232980e-08  3.737610e-09   \n",
       "img_99995.jpg   1.316978e-07  3.682614e-07  7.097483e-11  9.999965e-01   \n",
       "img_99996.jpg   6.973191e-07  9.086850e-07  2.080224e-07  1.089352e-03   \n",
       "img_99998.jpg   2.546142e-09  1.235128e-10  4.640553e-08  1.165986e-10   \n",
       "img_99999.jpg   2.202927e-05  1.519980e-08  4.567063e-10  1.644302e-07   \n",
       "\n",
       "                          c4            c5            c6            c7  \\\n",
       "img                                                                      \n",
       "img_1.jpg       3.325582e-07  9.990786e-01  7.063240e-08  2.552735e-04   \n",
       "img_10.jpg      2.633013e-07  9.995553e-01  6.075246e-06  1.702427e-07   \n",
       "img_100.jpg     2.040911e-05  3.298998e-07  3.700594e-04  3.850441e-03   \n",
       "img_1000.jpg    1.281465e-09  1.850751e-10  8.780874e-09  7.935866e-10   \n",
       "img_100000.jpg  4.303667e-04  4.788334e-06  1.827861e-05  1.368528e-07   \n",
       "...                      ...           ...           ...           ...   \n",
       "img_99994.jpg   1.843610e-13  2.376544e-09  5.839214e-09  5.993430e-09   \n",
       "img_99995.jpg   3.449809e-07  3.482129e-09  6.366061e-08  2.363489e-06   \n",
       "img_99996.jpg   9.988762e-01  2.256886e-09  3.434124e-07  2.364470e-05   \n",
       "img_99998.jpg   4.003848e-09  1.683767e-09  9.999962e-01  1.422249e-08   \n",
       "img_99999.jpg   1.923974e-07  9.999775e-01  1.007069e-07  1.761369e-09   \n",
       "\n",
       "                          c8            c9  \n",
       "img                                         \n",
       "img_1.jpg       1.961951e-05  6.204648e-04  \n",
       "img_10.jpg      1.762268e-05  4.494122e-07  \n",
       "img_100.jpg     1.411264e-02  1.803039e-02  \n",
       "img_1000.jpg    9.999731e-01  2.647279e-06  \n",
       "img_100000.jpg  2.780376e-04  1.732141e-05  \n",
       "...                      ...           ...  \n",
       "img_99994.jpg   4.386623e-11  1.667982e-10  \n",
       "img_99995.jpg   3.275299e-08  6.564221e-08  \n",
       "img_99996.jpg   8.337755e-06  3.112902e-07  \n",
       "img_99998.jpg   3.785650e-06  2.842930e-09  \n",
       "img_99999.jpg   2.120867e-09  2.588337e-08  \n",
       "\n",
       "[79726 rows x 10 columns]"
      ]
     },
     "execution_count": 52,
     "metadata": {},
     "output_type": "execute_result"
    }
   ],
   "source": [
    "df"
   ]
  },
  {
   "cell_type": "code",
   "execution_count": 53,
   "metadata": {},
   "outputs": [],
   "source": [
    "df.to_csv('submission.csv')"
   ]
  },
  {
   "cell_type": "code",
   "execution_count": null,
   "metadata": {},
   "outputs": [],
   "source": []
  }
 ],
 "metadata": {
  "kernelspec": {
   "display_name": "Python 3",
   "language": "python",
   "name": "python3"
  },
  "language_info": {
   "codemirror_mode": {
    "name": "ipython",
    "version": 3
   },
   "file_extension": ".py",
   "mimetype": "text/x-python",
   "name": "python",
   "nbconvert_exporter": "python",
   "pygments_lexer": "ipython3",
   "version": "3.7.6"
  }
 },
 "nbformat": 4,
 "nbformat_minor": 2
}
